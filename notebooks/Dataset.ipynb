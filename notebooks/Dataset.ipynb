{
 "cells": [
  {
   "cell_type": "code",
   "execution_count": null,
   "id": "8a053870",
   "metadata": {},
   "outputs": [],
   "source": [
    "from omegaconf import OmegaConf\n",
    "import os\n",
    "import panel as pn\n",
    "import numpy as np\n",
    "import pyvista as pv\n",
    "\n",
    "from torch_points3d.datasets.segmentation.ept_dataset import EptDataset\n",
    "pn.extension('vtk')\n",
    "os.system('/usr/bin/Xvfb :99 -screen 0 1024x768x24 &')\n",
    "os.environ['DISPLAY'] = ':99'\n",
    "os.environ['PYVISTA_OFF_SCREEN'] = 'True'\n",
    "os.environ['PYVISTA_USE_PANEL'] = 'True'\n"
   ]
  },
  {
   "cell_type": "code",
   "execution_count": null,
   "id": "d132b61d",
   "metadata": {},
   "outputs": [],
   "source": [
    "DIR = os.path.dirname(os.getcwd())\n",
    "dataset_options = OmegaConf.load(os.path.join(DIR,'../conf/data/segmentation/ept/ground/ground.yaml'))"
   ]
  },
  {
   "cell_type": "code",
   "execution_count": null,
   "id": "f9d4869f",
   "metadata": {},
   "outputs": [],
   "source": [
    "dataset_options.data.dataroot = \"/mnt/c/data/potreeconvert\"\n",
    "dataset = EptDataset(dataset_options.data)\n",
    "print(dataset)"
   ]
  },
  {
   "cell_type": "code",
   "execution_count": null,
   "id": "e5088c56",
   "metadata": {},
   "outputs": [],
   "source": [
    "x = dataset.train_dataset[0]"
   ]
  },
  {
   "cell_type": "code",
   "execution_count": null,
   "id": "98e1ed7e",
   "metadata": {},
   "outputs": [],
   "source": [
    "x.y.max()"
   ]
  },
  {
   "cell_type": "code",
   "execution_count": null,
   "id": "e2b69a40",
   "metadata": {},
   "outputs": [],
   "source": [
    "x.pos.min(axis=0)"
   ]
  },
  {
   "cell_type": "code",
   "execution_count": null,
   "id": "9f75e615",
   "metadata": {},
   "outputs": [],
   "source": [
    "x.pos.max(axis=0)"
   ]
  },
  {
   "cell_type": "code",
   "execution_count": null,
   "id": "b352f75e",
   "metadata": {},
   "outputs": [],
   "source": [
    "x.pos.mean(axis=0)"
   ]
  },
  {
   "cell_type": "code",
   "execution_count": null,
   "id": "b2be7e1d",
   "metadata": {},
   "outputs": [],
   "source": [
    "dataset.train_dataset.files[0]"
   ]
  },
  {
   "cell_type": "code",
   "execution_count": null,
   "id": "0ec68955",
   "metadata": {},
   "outputs": [],
   "source": [
    "(x.pos.max() - x.pos.min()) / 2"
   ]
  },
  {
   "cell_type": "code",
   "execution_count": null,
   "id": "b96d5a80",
   "metadata": {},
   "outputs": [],
   "source": [
    "len(x.pos)"
   ]
  },
  {
   "cell_type": "code",
   "execution_count": null,
   "id": "a191b4ca",
   "metadata": {},
   "outputs": [],
   "source": [
    "from joblib import Parallel, delayed\n",
    "import json\n",
    "from tqdm import tqdm\n",
    "import time\n",
    "import laspy\n",
    "\n",
    "in_dir = \"/mnt/c/data/potreeconvert/ahn\"\n",
    "\n",
    "heirarchyPath = os.path.join(in_dir, \"ept-hierarchy\", \"0-0-0-0.json\")\n",
    "\n",
    "print(\"[powerlineProcess] reading ept file %s: \" % (heirarchyPath))\n",
    "start_time = time.time()\n",
    "\n",
    "with open(heirarchyPath) as f:\n",
    "    hierarchy = json.load(f)\n",
    "filelist = [os.path.join(in_dir, \"ept-data\", x + \".laz\") for x in hierarchy.keys()]\n",
    "\n",
    "def _read_las(file):\n",
    "    las = laspy.read(file)            \n",
    "    classes = np.copy(las.classification)\n",
    "    xyz = np.stack([las.x, las.y, las.z], axis=1)\n",
    "    return xyz, classes\n",
    "\n",
    "xyzs, classes = Parallel(n_jobs=-1)(delayed(_read_las)(file) for file in tqdm(filelist))\n"
   ]
  },
  {
   "cell_type": "code",
   "execution_count": null,
   "id": "717358e9",
   "metadata": {},
   "outputs": [],
   "source": []
  }
 ],
 "metadata": {
  "kernelspec": {
   "display_name": "Python 3",
   "language": "python",
   "name": "python3"
  },
  "language_info": {
   "codemirror_mode": {
    "name": "ipython",
    "version": 3
   },
   "file_extension": ".py",
   "mimetype": "text/x-python",
   "name": "python",
   "nbconvert_exporter": "python",
   "pygments_lexer": "ipython3",
   "version": "3.8.10"
  }
 },
 "nbformat": 4,
 "nbformat_minor": 5
}
