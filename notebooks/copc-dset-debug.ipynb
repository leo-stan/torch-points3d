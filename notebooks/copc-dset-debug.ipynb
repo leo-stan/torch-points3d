{
 "cells": [
  {
   "cell_type": "code",
   "execution_count": null,
   "id": "3d5b1f46-bae9-4bb0-be9c-24602c9c8df7",
   "metadata": {},
   "outputs": [],
   "source": [
    "import copclib as copc\n",
    "import numpy as np\n",
    "import laspy \n",
    "import torch\n",
    "from torch_geometric.data import Dataset, Data\n",
    "import os\n",
    "import sys\n",
    "DIR = os.path.dirname(os.getcwd())\n",
    "ROOT = os.path.join(DIR, \"..\")\n",
    "sys.path.insert(0, ROOT)\n",
    "sys.path.insert(0, DIR)\n",
    "from torch_points3d.core.data_transform import GridSampling3D"
   ]
  },
  {
   "cell_type": "code",
   "execution_count": null,
   "id": "abf803a2-6fa7-414e-be4d-bcbd91a88b86",
   "metadata": {},
   "outputs": [],
   "source": [
    "reader = copc.FileReader(\"/media/nvme/pcdata/tyrol/copc/splits_0/octree.copc.laz\")\n",
    "max_depth = reader.GetDepthAtResolution(0.5)\n",
    "hierarchy = {str(node.key): node for node in reader.GetAllChildren() if node.key.d <= max_depth}"
   ]
  },
  {
   "cell_type": "code",
   "execution_count": null,
   "id": "769af33c-76bb-4b1e-8bad-91d99638a112",
   "metadata": {},
   "outputs": [],
   "source": [
    "header = reader.GetLasHeader()\n",
    "start_key = copc.VoxelKey(10, 931, 517, 58)\n",
    "nearest_depth, x, y = start_key.d, start_key.x, start_key.y\n",
    "sample_bounds = copc.Box(copc.VoxelKey(nearest_depth, x, y, 0), header)\n",
    "# Make the tile 2D\n",
    "sample_bounds.z_min = sys.float_info.min\n",
    "sample_bounds.z_max = sys.float_info.max\n"
   ]
  },
  {
   "cell_type": "code",
   "execution_count": null,
   "id": "ed502f6f-02f5-4a7d-8bc4-d4195263cb8d",
   "metadata": {},
   "outputs": [],
   "source": [
    "sample_bounds"
   ]
  },
  {
   "cell_type": "code",
   "execution_count": null,
   "id": "70bbccd9-e34e-4366-8165-eeb280a6e2a6",
   "metadata": {},
   "outputs": [],
   "source": [
    "# given a key, recursively check if each of its 8 children exist in the hierarchy\n",
    "def get_all_key_children(key, max_depth, hierarchy, children):\n",
    "    # stop once we reach max_depth, since none of its children can exist\n",
    "    if key.d >= max_depth:\n",
    "        return\n",
    "    for child in key.GetChildren():\n",
    "        if str(child) in hierarchy:\n",
    "            print(str(child))\n",
    "            print(str(hierarchy[str(child)].key))\n",
    "            # if the key exists, add it to the output, and check if any of its children exist\n",
    "            children.append(hierarchy[str(child)])\n",
    "            get_all_key_children(child, max_depth, hierarchy, children)\n"
   ]
  },
  {
   "cell_type": "code",
   "execution_count": null,
   "id": "a4baaf2f-494e-4c24-ad9f-881437049c92",
   "metadata": {},
   "outputs": [],
   "source": [
    "valid_nodes = {}\n",
    "# check each possible z to see if it, or any of its parents, exist\n",
    "for i, z in enumerate([56, 57, 58, 59]):\n",
    "    start_key = copc.VoxelKey(nearest_depth, x, y, z)\n",
    "\n",
    "    # start by checking if the node itself exists\n",
    "    if str(start_key) in hierarchy:\n",
    "        # if the node exists, then get all its children\n",
    "        child_nodes = []\n",
    "        get_all_key_children(start_key, max_depth, hierarchy, child_nodes)\n",
    "        for child_node in child_nodes:\n",
    "            valid_nodes[str(child_node.key)] = child_node\n",
    "        #print(len(child_nodes))\n",
    "    else:\n",
    "        # if the node doens't exist, get its first parent to exist\n",
    "        #print(\"HERE\")\n",
    "        while str(start_key) not in hierarchy:\n",
    "            if start_key.d < 0:\n",
    "                raise RuntimeError(\"This shouldn't happen!\")\n",
    "            start_key = start_key.GetParent()\n",
    "\n",
    "    #print(len(valid_nodes))\n",
    "    # then, get all nodes from depth 0 to the current depth\n",
    "    key = start_key\n",
    "    while key.IsValid():\n",
    "        valid_nodes[str(key)] = hierarchy[str(key)]\n",
    "        key = key.GetParent()\n",
    "#print(len(valid_nodes))\n",
    "# Process keys that exist\n",
    "copc_points = copc.Points(header)\n",
    "\n",
    "for node in valid_nodes.values():\n",
    "    key = node.key\n",
    "    copc_points.AddPoints(reader.GetPoints(node).GetWithin(sample_bounds))\n"
   ]
  },
  {
   "cell_type": "code",
   "execution_count": null,
   "id": "23578aec-b5c9-4f33-91be-6b90191955e6",
   "metadata": {},
   "outputs": [],
   "source": [
    "points = np.stack([copc_points.X, copc_points.Y, copc_points.Z], axis=1)\n",
    "classification = np.array(copc_points.Classification).astype(np.int)\n",
    "data = Data(pos=torch.from_numpy(points).type(torch.float), y=y)\n",
    "data = GridSampling3D(0.5, True, \"last\")(data)\n",
    "data"
   ]
  },
  {
   "cell_type": "code",
   "execution_count": null,
   "id": "1836d5b6-2692-4dd7-8628-ea364576270c",
   "metadata": {},
   "outputs": [],
   "source": [
    "print(data.coords.min(0))\n",
    "print(data.coords.max(0))\n"
   ]
  },
  {
   "cell_type": "code",
   "execution_count": null,
   "id": "e8b6b724-2236-44b1-84d7-9a7e78623350",
   "metadata": {},
   "outputs": [],
   "source": [
    "head = laspy.header.Header()\n",
    "las = laspy.file.File(\"tile4.laz\", mode=\"w\", header=head)\n",
    "las.header.scale = [header.scale.x, header.scale.y, header.scale.z]\n",
    "las.header.offset = [header.offset.x, header.offset.y, header.offset.z]\n",
    "las.x = np.array(data.pos[:,0])\n",
    "las.y = np.array(data.pos[:,1])\n",
    "las.z = np.array(data.pos[:,2])\n",
    "las.close()"
   ]
  },
  {
   "cell_type": "code",
   "execution_count": null,
   "id": "ef5671ff-9d0a-41da-8ccf-19e05a86b043",
   "metadata": {},
   "outputs": [],
   "source": []
  }
 ],
 "metadata": {
  "kernelspec": {
   "display_name": "Python 3 (ipykernel)",
   "language": "python",
   "name": "python3"
  },
  "language_info": {
   "codemirror_mode": {
    "name": "ipython",
    "version": 3
   },
   "file_extension": ".py",
   "mimetype": "text/x-python",
   "name": "python",
   "nbconvert_exporter": "python",
   "pygments_lexer": "ipython3",
   "version": "3.8.12"
  }
 },
 "nbformat": 4,
 "nbformat_minor": 5
}
