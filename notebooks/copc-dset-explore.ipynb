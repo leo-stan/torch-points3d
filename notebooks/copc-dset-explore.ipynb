{
 "cells": [
  {
   "cell_type": "markdown",
   "metadata": {},
   "source": [
    "# Scannet vizualisation"
   ]
  },
  {
   "cell_type": "code",
   "execution_count": 3,
   "metadata": {},
   "outputs": [
    {
     "name": "stdout",
     "output_type": "stream",
     "text": [
      "The autoreload extension is already loaded. To reload it, use:\n",
      "  %reload_ext autoreload\n"
     ]
    },
    {
     "name": "stderr",
     "output_type": "stream",
     "text": [
      "sh: 1: /usr/bin/Xvfb: not found\n"
     ]
    }
   ],
   "source": [
    "%load_ext autoreload\n",
    "%autoreload 2\n",
    "import os\n",
    "import sys\n",
    "import numpy as np\n",
    "from omegaconf import OmegaConf"
   ]
  },
  {
   "cell_type": "code",
   "execution_count": 22,
   "metadata": {},
   "outputs": [],
   "source": [
    "DIR = os.path.dirname(os.getcwd())\n",
    "ROOT = os.path.join(DIR, \"..\")\n",
    "sys.path.insert(0, ROOT)\n",
    "sys.path.insert(0, DIR)\n",
    "from torch_points3d.datasets.segmentation.copc_dataset import CopcDataset, CopcInternalDataset, DatasetSample\n",
    "from torch_points3d.datasets.segmentation import IGNORE_LABEL"
   ]
  },
  {
   "cell_type": "markdown",
   "metadata": {},
   "source": [
    "## Load S3DIS dataset"
   ]
  },
  {
   "cell_type": "code",
   "execution_count": 10,
   "metadata": {},
   "outputs": [],
   "source": [
    "DIR = os.path.dirname(os.getcwd())\n",
    "dataset_options = OmegaConf.load(os.path.join(DIR,'conf/data/segmentation/ground/ground-v1.yaml'))"
   ]
  },
  {
   "cell_type": "code",
   "execution_count": 46,
   "metadata": {},
   "outputs": [
    {
     "name": "stderr",
     "output_type": "stream",
     "text": [
      "  0%|                                                                                                                                                                                | 0/1 [18:17<?, ?it/s]\n",
      "100%|███████████████████████████████████████████████████████████████████████████████████████████████████████████████████████████████████████████████████████████████████████| 1/1 [00:00<00:00, 657.21it/s]\n"
     ]
    },
    {
     "name": "stdout",
     "output_type": "stream",
     "text": [
      "yep\n"
     ]
    },
    {
     "ename": "KeyError",
     "evalue": "'11-1862-1034-116'",
     "output_type": "error",
     "traceback": [
      "\u001b[0;31m---------------------------------------------------------------------------\u001b[0m",
      "\u001b[0;31mKeyError\u001b[0m                                  Traceback (most recent call last)",
      "\u001b[0;32m/tmp/ipykernel_1054780/4005392188.py\u001b[0m in \u001b[0;36m<module>\u001b[0;34m\u001b[0m\n\u001b[1;32m      1\u001b[0m \u001b[0;31m#dataset_options.data.dataroot = os.path.join(DIR,\"data\")\u001b[0m\u001b[0;34m\u001b[0m\u001b[0;34m\u001b[0m\u001b[0;34m\u001b[0m\u001b[0m\n\u001b[0;32m----> 2\u001b[0;31m \u001b[0mdataset\u001b[0m \u001b[0;34m=\u001b[0m \u001b[0mCopcDataset\u001b[0m\u001b[0;34m(\u001b[0m\u001b[0mdataset_options\u001b[0m\u001b[0;34m.\u001b[0m\u001b[0mdata\u001b[0m\u001b[0;34m)\u001b[0m\u001b[0;34m\u001b[0m\u001b[0;34m\u001b[0m\u001b[0m\n\u001b[0m\u001b[1;32m      3\u001b[0m \u001b[0;31m#print(dataset)\u001b[0m\u001b[0;34m\u001b[0m\u001b[0;34m\u001b[0m\u001b[0;34m\u001b[0m\u001b[0m\n",
      "\u001b[0;32m/processing/torch-points3d/torch_points3d/datasets/segmentation/copc_dataset.py\u001b[0m in \u001b[0;36m__init__\u001b[0;34m(self, dataset_opt)\u001b[0m\n\u001b[1;32m    354\u001b[0m                 \u001b[0mdataset\u001b[0m\u001b[0;34m[\u001b[0m\u001b[0;34m\"files\"\u001b[0m\u001b[0;34m]\u001b[0m \u001b[0;34m=\u001b[0m \u001b[0;34m{\u001b[0m\u001b[0mfile\u001b[0m\u001b[0;34m:\u001b[0m \u001b[0mFile\u001b[0m\u001b[0;34m(\u001b[0m\u001b[0mfile\u001b[0m\u001b[0;34m,\u001b[0m \u001b[0;34m{\u001b[0m\u001b[0mstr\u001b[0m\u001b[0;34m(\u001b[0m\u001b[0mnode\u001b[0m\u001b[0;34m.\u001b[0m\u001b[0mkey\u001b[0m\u001b[0;34m)\u001b[0m\u001b[0;34m:\u001b[0m \u001b[0mnode\u001b[0m \u001b[0;32mfor\u001b[0m \u001b[0mnode\u001b[0m \u001b[0;32min\u001b[0m \u001b[0mhierarchy\u001b[0m\u001b[0;34m}\u001b[0m\u001b[0;34m,\u001b[0m \u001b[0mmax_depth\u001b[0m\u001b[0;34m)\u001b[0m \u001b[0;32mfor\u001b[0m \u001b[0mfile\u001b[0m\u001b[0;34m,\u001b[0m \u001b[0mhierarchy\u001b[0m\u001b[0;34m,\u001b[0m \u001b[0mmax_depth\u001b[0m \u001b[0;32min\u001b[0m \u001b[0mout_files\u001b[0m\u001b[0;34m}\u001b[0m\u001b[0;34m\u001b[0m\u001b[0;34m\u001b[0m\u001b[0m\n\u001b[1;32m    355\u001b[0m                 \u001b[0mprint\u001b[0m\u001b[0;34m(\u001b[0m\u001b[0;34m\"yep\"\u001b[0m\u001b[0;34m)\u001b[0m\u001b[0;34m\u001b[0m\u001b[0;34m\u001b[0m\u001b[0m\n\u001b[0;32m--> 356\u001b[0;31m                 \u001b[0mprint\u001b[0m\u001b[0;34m(\u001b[0m\u001b[0mdataset\u001b[0m\u001b[0;34m[\u001b[0m\u001b[0;34m\"files\"\u001b[0m\u001b[0;34m]\u001b[0m\u001b[0;34m[\u001b[0m\u001b[0;34m\"splits_0\"\u001b[0m\u001b[0;34m]\u001b[0m\u001b[0;34m.\u001b[0m\u001b[0mhierarchy\u001b[0m\u001b[0;34m[\u001b[0m\u001b[0;34m\"11-1862-1034-116\"\u001b[0m\u001b[0;34m]\u001b[0m\u001b[0;34m.\u001b[0m\u001b[0mkey\u001b[0m\u001b[0;34m)\u001b[0m\u001b[0;34m\u001b[0m\u001b[0;34m\u001b[0m\u001b[0m\n\u001b[0m\u001b[1;32m    357\u001b[0m                 \u001b[0mprint\u001b[0m\u001b[0;34m(\u001b[0m\u001b[0mdataset\u001b[0m\u001b[0;34m[\u001b[0m\u001b[0;34m\"files\"\u001b[0m\u001b[0;34m]\u001b[0m\u001b[0;34m[\u001b[0m\u001b[0;34m\"splits_0\"\u001b[0m\u001b[0;34m]\u001b[0m\u001b[0;34m.\u001b[0m\u001b[0mhierarchy\u001b[0m\u001b[0;34m[\u001b[0m\u001b[0;34m\"11-1862-1034-116\"\u001b[0m\u001b[0;34m]\u001b[0m\u001b[0;34m)\u001b[0m\u001b[0;34m\u001b[0m\u001b[0;34m\u001b[0m\u001b[0m\n\u001b[1;32m    358\u001b[0m \u001b[0;34m\u001b[0m\u001b[0m\n",
      "\u001b[0;31mKeyError\u001b[0m: '11-1862-1034-116'"
     ]
    }
   ],
   "source": [
    "#dataset_options.data.dataroot = os.path.join(DIR,\"data\")\n",
    "dataset = CopcDataset(dataset_options.data)\n",
    "#print(dataset)"
   ]
  },
  {
   "cell_type": "code",
   "execution_count": 25,
   "metadata": {},
   "outputs": [
    {
     "data": {
      "text/plain": [
       "84354"
      ]
     },
     "execution_count": 25,
     "metadata": {},
     "output_type": "execute_result"
    }
   ],
   "source": [
    "dataset.train_dataset.samples.index(DatasetSample(\"splits_0\", \"tyrol\", 10, 931, 517, [56, 57, 58, 59]))"
   ]
  },
  {
   "cell_type": "code",
   "execution_count": 26,
   "metadata": {},
   "outputs": [
    {
     "data": {
      "text/plain": [
       "DatasetSample(file='splits_0', dataset='tyrol', depth=10, x=931, y=517, z=[56, 57, 58, 59])"
      ]
     },
     "execution_count": 26,
     "metadata": {},
     "output_type": "execute_result"
    }
   ],
   "source": [
    "dataset.train_dataset.samples[84354]"
   ]
  },
  {
   "cell_type": "code",
   "execution_count": 34,
   "metadata": {},
   "outputs": [
    {
     "name": "stdout",
     "output_type": "stream",
     "text": [
      "12 Box: x_min=735666 y_min=5.19161e+06 z_min=2.22507e-308 x_max=735800 y_max=5.19174e+06 z_max=1.79769e+308 10 931 517\n",
      "11-1862-1034-116\n",
      "11-116-1034-116\n",
      "12-3724-2068-232\n",
      "12-232-2068-232\n",
      "12-3725-2068-232\n",
      "12-232-2068-232\n",
      "12-3724-2069-232\n",
      "12-232-2069-232\n",
      "12-3725-2069-232\n",
      "12-232-2069-232\n",
      "12-3725-2068-233\n",
      "12-233-2068-233\n",
      "12-3724-2069-233\n",
      "12-233-2069-233\n",
      "12-3725-2069-233\n",
      "12-233-2069-233\n",
      "11-1863-1034-116\n",
      "11-116-1034-116\n",
      "12-3726-2068-232\n",
      "12-232-2068-232\n",
      "12-3727-2068-232\n",
      "12-232-2068-232\n",
      "12-3726-2069-232\n",
      "12-232-2069-232\n",
      "12-3727-2069-232\n",
      "12-232-2069-232\n",
      "12-3726-2068-233\n",
      "12-233-2068-233\n",
      "12-3727-2068-233\n",
      "12-233-2068-233\n",
      "12-3726-2069-233\n",
      "12-233-2069-233\n",
      "11-1862-1035-116\n",
      "11-116-1035-116\n",
      "12-3724-2070-232\n",
      "12-232-2070-232\n",
      "12-3725-2070-232\n",
      "12-232-2070-232\n",
      "12-3724-2070-233\n",
      "12-233-2070-233\n",
      "12-3725-2070-233\n",
      "12-233-2070-233\n",
      "12-3724-2071-233\n",
      "12-233-2071-233\n",
      "12-3725-2071-233\n",
      "12-233-2071-233\n",
      "11-1863-1035-116\n",
      "11-116-1035-116\n",
      "12-3726-2070-232\n",
      "12-232-2070-232\n",
      "12-3727-2070-232\n",
      "12-232-2070-232\n",
      "12-3726-2070-233\n",
      "12-233-2070-233\n",
      "12-3727-2070-233\n",
      "12-233-2070-233\n",
      "12-3726-2071-233\n",
      "12-233-2071-233\n",
      "12-3727-2071-233\n",
      "12-233-2071-233\n",
      "[Entry 11-116-1034-116: off=50677567220, size=68177, count=7021, is_valid=1, Entry 12-232-2068-232: off=50649880409, size=43518, count=5708, is_valid=1, Entry 12-232-2068-232: off=50652292106, size=31388, count=3831, is_valid=1, Entry 12-232-2069-232: off=50651212803, size=39990, count=5178, is_valid=1, Entry 12-232-2069-232: off=50653585499, size=30368, count=3642, is_valid=1, Entry 12-233-2068-233: off=50652459173, size=4077, count=333, is_valid=1, Entry 12-233-2069-233: off=50651321149, size=2899, count=217, is_valid=1, Entry 12-233-2069-233: off=50653953478, size=22232, count=2089, is_valid=1, Entry 11-116-1034-116: off=50681136544, size=48297, count=4967, is_valid=1, Entry 12-232-2068-232: off=50662518767, size=14220, count=1455, is_valid=1, Entry 12-232-2068-232: off=50665760484, size=31615, count=3807, is_valid=1, Entry 12-232-2069-232: off=50664219923, size=34119, count=4318, is_valid=1, Entry 12-232-2069-232: off=50666949983, size=28059, count=3468, is_valid=1, Entry 12-233-2068-233: off=50662743982, size=3897, count=282, is_valid=1, Entry 12-233-2068-233: off=50665898039, size=130, count=3, is_valid=1, Entry 12-233-2069-233: off=50664617039, size=368, count=19, is_valid=1, Entry 11-116-1035-116: off=50679279039, size=62219, count=6236, is_valid=1, Entry 12-232-2070-232: off=50656320731, size=2882, count=247, is_valid=1, Entry 12-232-2070-232: off=50658679091, size=1250, count=91, is_valid=1, Entry 12-233-2070-233: off=50657564916, size=39933, count=4350, is_valid=1, Entry 12-233-2070-233: off=50659642743, size=34827, count=4408, is_valid=1, Entry 12-233-2071-233: off=50658571014, size=36899, count=4160, is_valid=1, Entry 12-233-2071-233: off=50660765319, size=19010, count=2174, is_valid=1, Entry 11-116-1035-116: off=50682676878, size=44436, count=4705, is_valid=1, Entry 12-232-2070-232: off=50668806675, size=16172, count=1885, is_valid=1, Entry 12-232-2070-232: off=50672315497, size=48864, count=6772, is_valid=1, Entry 12-233-2070-233: off=50669258105, size=11096, count=1213, is_valid=1, Entry 12-233-2070-233: off=50673019603, size=8569, count=947, is_valid=1, Entry 12-233-2071-233: off=50670130171, size=21665, count=2494, is_valid=1, Entry 12-233-2071-233: off=50674100370, size=30529, count=3801, is_valid=1]\n"
     ]
    },
    {
     "data": {
      "text/plain": [
       "Data(coords=[29279, 3], grid_size=[1], pos=[29279, 3], x=[29279, 1], y=[29279])"
      ]
     },
     "execution_count": 34,
     "metadata": {},
     "output_type": "execute_result"
    }
   ],
   "source": [
    "dataset.train_dataset[84354]"
   ]
  },
  {
   "cell_type": "code",
   "execution_count": null,
   "metadata": {},
   "outputs": [],
   "source": [
    "dataset.train_dataset.datasets"
   ]
  },
  {
   "cell_type": "markdown",
   "metadata": {},
   "source": [
    "## Visualise the data"
   ]
  },
  {
   "cell_type": "code",
   "execution_count": null,
   "metadata": {},
   "outputs": [],
   "source": []
  }
 ],
 "metadata": {
  "kernelspec": {
   "display_name": "Python 3 (ipykernel)",
   "language": "python",
   "name": "python3"
  },
  "language_info": {
   "codemirror_mode": {
    "name": "ipython",
    "version": 3
   },
   "file_extension": ".py",
   "mimetype": "text/x-python",
   "name": "python",
   "nbconvert_exporter": "python",
   "pygments_lexer": "ipython3",
   "version": "3.8.12"
  }
 },
 "nbformat": 4,
 "nbformat_minor": 4
}
