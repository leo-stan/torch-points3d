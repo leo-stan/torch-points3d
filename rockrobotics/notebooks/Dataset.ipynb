{
 "cells": [
  {
   "cell_type": "code",
   "execution_count": null,
   "id": "fe3cdf4b",
   "metadata": {},
   "outputs": [],
   "source": [
    "from omegaconf import OmegaConf\n",
    "import os\n",
    "import panel as pn\n",
    "import numpy as np\n",
    "import pyvista as pv\n",
    "\n",
    "from torch_points3d.datasets.segmentation.ept_dataset import EptDataset\n",
    "pn.extension('vtk')\n",
    "os.system('/usr/bin/Xvfb :99 -screen 0 1024x768x24 &')\n",
    "os.environ['DISPLAY'] = ':99'\n",
    "os.environ['PYVISTA_OFF_SCREEN'] = 'True'\n",
    "os.environ['PYVISTA_USE_PANEL'] = 'True'\n"
   ]
  },
  {
   "cell_type": "code",
   "execution_count": null,
   "id": "99d6f150-3eb5-4397-abac-224cda764d2c",
   "metadata": {},
   "outputs": [],
   "source": [
    "DIR = os.path.dirname(os.getcwd())\n",
    "dataset_options = OmegaConf.load(os.path.join(DIR,'../conf/data/segmentation/ept/ground/ground.yaml'))"
   ]
  },
  {
   "cell_type": "code",
   "execution_count": null,
   "id": "7dafcecd-cb01-488c-ae52-a8d1088f4a66",
   "metadata": {},
   "outputs": [],
   "source": [
    "dataset_options.data.dataroot = \"/mnt/c/data/potreeconvert\"\n",
    "dataset = EptDataset(dataset_options.data)\n",
    "print(dataset)"
   ]
  },
  {
   "cell_type": "code",
   "execution_count": null,
   "id": "d1781661-5102-4fdf-9562-9139d34d1d7a",
   "metadata": {},
   "outputs": [],
   "source": [
    "x = dataset.train_dataset[0]"
   ]
  },
  {
   "cell_type": "code",
   "execution_count": null,
   "id": "b90cf3a5-bf2a-43b5-b06b-05582453ef7f",
   "metadata": {},
   "outputs": [],
   "source": [
    "x.y.max()"
   ]
  },
  {
   "cell_type": "code",
   "execution_count": null,
   "id": "e68606fd-57f5-442e-8b7c-95ad45b67fbe",
   "metadata": {},
   "outputs": [],
   "source": [
    "x.pos.min(axis=0)"
   ]
  },
  {
   "cell_type": "code",
   "execution_count": null,
   "id": "71126ac6-2d1e-4481-aa18-4532b7f4c618",
   "metadata": {},
   "outputs": [],
   "source": [
    "x.pos.max(axis=0)"
   ]
  },
  {
   "cell_type": "code",
   "execution_count": null,
   "id": "fbdf0063-ed90-497e-8b31-2aa3fe6947cb",
   "metadata": {},
   "outputs": [],
   "source": [
    "x.pos.mean(axis=0)"
   ]
  },
  {
   "cell_type": "code",
   "execution_count": null,
   "id": "278e6b14-9922-4dc0-a139-861ac711629a",
   "metadata": {},
   "outputs": [],
   "source": [
    "dataset.train_dataset.files[0]"
   ]
  },
  {
   "cell_type": "code",
   "execution_count": null,
   "id": "7a225607-b9be-4dfe-afc8-3fde67693df1",
   "metadata": {},
   "outputs": [],
   "source": [
    "(x.pos.max() - x.pos.min()) / 2"
   ]
  },
  {
   "cell_type": "code",
   "execution_count": null,
   "id": "0d8b4066-348c-40ca-85c3-5f067d7305d4",
   "metadata": {},
   "outputs": [],
   "source": [
    "len(x.pos)"
   ]
  },
  {
   "cell_type": "code",
   "execution_count": null,
   "id": "6717d6fb-1319-4314-b6a1-13c610374152",
   "metadata": {},
   "outputs": [],
   "source": [
    "from joblib import Parallel, delayed\n",
    "import json\n",
    "from tqdm import tqdm\n",
    "import time\n",
    "import laspy\n",
    "\n",
    "in_dir = \"/mnt/c/data/potreeconvert/ahn\"\n",
    "\n",
    "heirarchyPath = os.path.join(in_dir, \"ept-hierarchy\", \"0-0-0-0.json\")\n",
    "\n",
    "print(\"[powerlineProcess] reading ept file %s: \" % (heirarchyPath))\n",
    "start_time = time.time()\n",
    "\n",
    "with open(heirarchyPath) as f:\n",
    "    hierarchy = json.load(f)\n",
    "filelist = [os.path.join(in_dir, \"ept-data\", x + \".laz\") for x in hierarchy.keys()]\n",
    "\n",
    "def _read_las(file):\n",
    "    las = laspy.read(file)            \n",
    "    classes = np.copy(las.classification)\n",
    "    xyz = np.stack([las.x, las.y, las.z], axis=1)\n",
    "    return xyz, classes\n",
    "\n",
    "xyzs, classes = Parallel(n_jobs=-1)(delayed(_read_las)(file) for file in tqdm(filelist))\n"
   ]
  },
  {
   "cell_type": "code",
   "execution_count": null,
   "id": "4b77d9b3-78cb-46a5-8c87-ccf8c4f0ac23",
   "metadata": {},
   "outputs": [],
   "source": []
  }
 ],
 "metadata": {
  "kernelspec": {
   "display_name": "Python 3",
   "language": "python",
   "name": "python3"
  },
  "language_info": {
   "codemirror_mode": {
    "name": "ipython",
    "version": 3
   },
   "file_extension": ".py",
   "mimetype": "text/x-python",
   "name": "python",
   "nbconvert_exporter": "python",
   "pygments_lexer": "ipython3",
   "version": "3.8.10"
  }
 },
 "nbformat": 4,
 "nbformat_minor": 5
}
